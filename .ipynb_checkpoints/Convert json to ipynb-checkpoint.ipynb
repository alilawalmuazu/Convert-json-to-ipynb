{
 "cells": [
  {
   "cell_type": "code",
   "execution_count": null,
   "id": "13d1f0f5",
   "metadata": {},
   "outputs": [],
   "source": [
    "import nbformat\n",
    "from nbformat.v4 import new_notebook, new_code_cell\n",
    "import json\n",
    "\n",
    "def convert_json_to_ipynb(json_file_path, ipynb_file_path):\n",
    "    # Read the JSON file\n",
    "    with open(json_file_path, 'r') as json_file:\n",
    "        data = json.load(json_file)\n",
    "    \n",
    "    # Create a new notebook\n",
    "    nb = new_notebook()\n",
    "\n",
    "    # Iterate over the cells in the JSON file and add them to the notebook\n",
    "    for cell in data['cells']:\n",
    "        cell_type = cell['cell_type']\n",
    "        if cell_type == 'code':\n",
    "            nb.cells.append(new_code_cell(source='\\n'.join(cell['source'])))\n",
    "\n",
    "    # Write the notebook to a .ipynb file\n",
    "    with open(ipynb_file_path, 'w') as ipynb_file:\n",
    "        nbformat.write(nb, ipynb_file)\n",
    "\n",
    "# Example usage:\n",
    "json_file_path = 'input.json'  # Path to your JSON file\n",
    "ipynb_file_path = 'output.ipynb'  # Path where you want to save the IPython Notebook file\n",
    "convert_json_to_ipynb(json_file_path, ipynb_file_path)\n"
   ]
  }
 ],
 "metadata": {
  "kernelspec": {
   "display_name": "Python 3 (ipykernel)",
   "language": "python",
   "name": "python3"
  },
  "language_info": {
   "codemirror_mode": {
    "name": "ipython",
    "version": 3
   },
   "file_extension": ".py",
   "mimetype": "text/x-python",
   "name": "python",
   "nbconvert_exporter": "python",
   "pygments_lexer": "ipython3",
   "version": "3.11.4"
  }
 },
 "nbformat": 4,
 "nbformat_minor": 5
}
